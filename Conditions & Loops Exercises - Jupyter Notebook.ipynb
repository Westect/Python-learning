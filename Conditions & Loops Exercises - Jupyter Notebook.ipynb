{
 "cells": [
  {
   "cell_type": "code",
   "execution_count": 3,
   "id": "9dd822b0",
   "metadata": {},
   "outputs": [],
   "source": [
    "#Q1 Given two integer numbers. If any of the numbers are greater than 50 return t\n",
    "number1= 20\n",
    "number2= 40\n",
    "\n",
    "if number1 > 50 or number2 > 50:\n",
    "    print('True')"
   ]
  },
  {
   "cell_type": "code",
   "execution_count": 6,
   "id": "0dc3b84e",
   "metadata": {},
   "outputs": [
    {
     "name": "stdout",
     "output_type": "stream",
     "text": [
      "True\n"
     ]
    }
   ],
   "source": [
    "#Q2 Given a list of numbers, return True if first and last number of a list is same\n",
    "list1=[1,2,5,4,1]\n",
    "\n",
    "if list1[0] == list1[len(list1)-1]:\n",
    "    print('True')"
   ]
  },
  {
   "cell_type": "code",
   "execution_count": 21,
   "id": "d7f6194f",
   "metadata": {},
   "outputs": [
    {
     "name": "stdout",
     "output_type": "stream",
     "text": [
      "1\n",
      "3\n",
      "5\n",
      "7\n",
      "9\n",
      "11\n",
      "13\n",
      "15\n",
      "17\n",
      "19\n"
     ]
    }
   ],
   "source": [
    "#Q3 Given a range of the first 10 numbers[1:10], Iterate from the start number to \n",
    "#and In each iteration print the sum of the current number and previous number \n",
    "x=0\n",
    "for n in range(1,11):\n",
    "    print(n+x)\n",
    "    x=n"
   ]
  },
  {
   "cell_type": "code",
   "execution_count": 11,
   "id": "e75598a3",
   "metadata": {},
   "outputs": [],
   "source": [
    "#Q4 Given a string name, display only those characters which are present at an ev name=\"NPowerCanada\" \n"
   ]
  },
  {
   "cell_type": "code",
   "execution_count": 27,
   "id": "6725c1a3",
   "metadata": {},
   "outputs": [
    {
     "name": "stdout",
     "output_type": "stream",
     "text": [
      "Course\n"
     ]
    }
   ],
   "source": [
    "#Q5 Given a string oldString and an integer number n,  \n",
    "#remove characters from a string starting from zero up to n and return a newString \n",
    "oldString=\"PythonCourse\" \n",
    "n=6\n",
    "\n",
    "for x in range(n):\n",
    "    oldString=oldString[1::]\n",
    "\n",
    "print(oldString)"
   ]
  },
  {
   "cell_type": "code",
   "execution_count": 38,
   "id": "7ec276dc",
   "metadata": {},
   "outputs": [
    {
     "name": "stdout",
     "output_type": "stream",
     "text": [
      "*\n",
      "**\n",
      "***\n",
      "****\n"
     ]
    }
   ],
   "source": [
    "#Q6 Print the follwoing pattern \n",
    "#* \n",
    "#** \n",
    "#*** \n",
    "#**** \n",
    "n=4\n",
    "ast='*'\n",
    "for x in range(n):\n",
    "    print(ast)\n",
    "    ast=ast+'*'"
   ]
  },
  {
   "cell_type": "code",
   "execution_count": 43,
   "id": "554335d0",
   "metadata": {},
   "outputs": [
    {
     "data": {
      "text/plain": [
       "[60, 50, 70, 90]"
      ]
     },
     "execution_count": 43,
     "metadata": {},
     "output_type": "execute_result"
    }
   ],
   "source": [
    "#Q7 Reverse the following list using for loop \n",
    "list1=[90,70,50,60] \n",
    "list2=[]\n",
    "\n",
    "for x in range(len(list1)):\n",
    "    list2.append(list1[len(list1)-1-x])\n",
    "    \n",
    "list2"
   ]
  },
  {
   "cell_type": "code",
   "execution_count": 45,
   "id": "78ffb637",
   "metadata": {},
   "outputs": [
    {
     "name": "stdout",
     "output_type": "stream",
     "text": [
      "-10\n",
      "-9\n",
      "-8\n",
      "-7\n",
      "-6\n",
      "-5\n",
      "-4\n",
      "-3\n",
      "-2\n",
      "-1\n"
     ]
    }
   ],
   "source": [
    "#Q8 Display numbers from -10 to -1 using for loop [hint use range method]\n",
    "for n in range(-10,0):\n",
    "    print(n)"
   ]
  }
 ],
 "metadata": {
  "kernelspec": {
   "display_name": "Python 3",
   "language": "python",
   "name": "python3"
  },
  "language_info": {
   "codemirror_mode": {
    "name": "ipython",
    "version": 3
   },
   "file_extension": ".py",
   "mimetype": "text/x-python",
   "name": "python",
   "nbconvert_exporter": "python",
   "pygments_lexer": "ipython3",
   "version": "3.8.8"
  }
 },
 "nbformat": 4,
 "nbformat_minor": 5
}
