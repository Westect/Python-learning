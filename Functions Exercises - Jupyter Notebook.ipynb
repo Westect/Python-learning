{
 "cells": [
  {
   "cell_type": "code",
   "execution_count": 6,
   "id": "5c953cf1",
   "metadata": {},
   "outputs": [
    {
     "data": {
      "text/plain": [
       "3"
      ]
     },
     "execution_count": 6,
     "metadata": {},
     "output_type": "execute_result"
    }
   ],
   "source": [
    "#Q1 Write Python function that takes two inputs\n",
    "#and return their sum value\n",
    "\n",
    "def add2(a, b):\n",
    "    return(a+b)\n",
    "\n",
    "add2(1,2)"
   ]
  },
  {
   "cell_type": "code",
   "execution_count": 5,
   "id": "d93325a1",
   "metadata": {},
   "outputs": [
    {
     "data": {
      "text/plain": [
       "41.0"
      ]
     },
     "execution_count": 5,
     "metadata": {},
     "output_type": "execute_result"
    }
   ],
   "source": [
    "#Q2 Write Python function the takes a celsius temprature\n",
    "#and converts it into fahrenheit\n",
    "\n",
    "def cel_to_fahr(x):\n",
    "    return(x*1.8+32)\n",
    "\n",
    "cel_to_fahr(5)"
   ]
  },
  {
   "cell_type": "code",
   "execution_count": 4,
   "id": "0e100c1c",
   "metadata": {},
   "outputs": [
    {
     "data": {
      "text/plain": [
       "3"
      ]
     },
     "execution_count": 4,
     "metadata": {},
     "output_type": "execute_result"
    }
   ],
   "source": [
    "#Q3 Write a Python function to find the Max of three numbers\n",
    "\n",
    "def find_max_of3(a, b, c):\n",
    "    return max(a, b, c)\n",
    "\n",
    "find_max_of3(1, 2, 3)"
   ]
  },
  {
   "cell_type": "code",
   "execution_count": 9,
   "id": "c6afaa6b",
   "metadata": {},
   "outputs": [
    {
     "data": {
      "text/plain": [
       "True"
      ]
     },
     "execution_count": 9,
     "metadata": {},
     "output_type": "execute_result"
    }
   ],
   "source": [
    "#Q4 Write a Python function to check whether a number\n",
    "#is in a given range [5,12]\n",
    "\n",
    "def if_in_range(x):\n",
    "    return x>=5 and x<=12\n",
    "\n",
    "if_in_range(5)"
   ]
  },
  {
   "cell_type": "code",
   "execution_count": 12,
   "id": "1ba36932",
   "metadata": {},
   "outputs": [
    {
     "data": {
      "text/plain": [
       "[1, 2, 3, 4, 5]"
      ]
     },
     "execution_count": 12,
     "metadata": {},
     "output_type": "execute_result"
    }
   ],
   "source": [
    "#Q5 Write a Python function that takes a list\n",
    "#and returns a new list with unique elements of the first\n",
    "Sample_List = [1,2,3,3,3,3,4,5]\n",
    "\n",
    "def make_list_unique(x):\n",
    "    temp_set=set(x)\n",
    "    return(list(temp_set))\n",
    "\n",
    "make_list_unique(Sample_List)"
   ]
  },
  {
   "cell_type": "code",
   "execution_count": 17,
   "id": "57a6f07d",
   "metadata": {},
   "outputs": [
    {
     "data": {
      "text/plain": [
       "True"
      ]
     },
     "execution_count": 17,
     "metadata": {},
     "output_type": "execute_result"
    }
   ],
   "source": [
    "#Q6 Given a list of numbers, return True if first\n",
    "#and last number of a list is same\n",
    "list1=[1,2,5,4,1]\n",
    "list2=[5,6,3,2,1]\n",
    "list3=[88,44,55,66,77,88]\n",
    "\n",
    "def check_heads_and_tails(x):\n",
    "    return x[0] == x[len(x)-1]\n",
    "\n",
    "check_heads_and_tails(list1)"
   ]
  }
 ],
 "metadata": {
  "kernelspec": {
   "display_name": "Python 3",
   "language": "python",
   "name": "python3"
  },
  "language_info": {
   "codemirror_mode": {
    "name": "ipython",
    "version": 3
   },
   "file_extension": ".py",
   "mimetype": "text/x-python",
   "name": "python",
   "nbconvert_exporter": "python",
   "pygments_lexer": "ipython3",
   "version": "3.8.8"
  }
 },
 "nbformat": 4,
 "nbformat_minor": 5
}
