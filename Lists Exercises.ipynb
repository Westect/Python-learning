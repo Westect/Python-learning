{
 "cells": [
  {
   "cell_type": "code",
   "execution_count": 1,
   "id": "8b098fb5",
   "metadata": {},
   "outputs": [
    {
     "data": {
      "text/plain": [
       "tuple"
      ]
     },
     "execution_count": 1,
     "metadata": {},
     "output_type": "execute_result"
    }
   ],
   "source": [
    "#Q1 Create a tuple with all participant names in the JDA program\n",
    "JDA_participants=('Mariya Amtullah', 'Meelad Armani', 'Sameeha Bala', 'Juned Chhiboo', 'Weslie Chung', 'Mohammad Dabbour', 'Miguel Diaz', 'Hossain Ghahraloud', 'Kwabena Gyasi-Boateng', 'Alexander Hailu', 'Carlo Halnin', 'Jason Huang', 'Cici Ann Joji', 'Supriya Kanda', 'Harpreet Kaur', 'Abdul Wahid Khudayar', 'Erkan KUMESOGUT', 'ARAVINDH KUPPUSAMY HARIDOSS', 'Reetika L', 'Ying Fei Li', 'Addy Rose Locaylocay', 'Kamiar Mehmannavazan', 'Kamiar Mehmannavazan', 'Poojan Modi', 'Marwa Musa', 'Anu Oluseyi', 'Harun Omar-Godane', 'DHRUVKUMAR PATEL', 'Vrunda Patel', 'Sravan Pingali', 'Pouria Raziei', 'Exalta Rodrigues', 'Karthik Sai', 'Ekaterina Shalygina', 'Ronit Soni', 'Reena Thakur', 'JESSO THOMAS', 'Robin Francis Thomas', 'Rohan Thomas', 'NEVIN TOMY', 'Fatma Tuncalan')\t\n",
    "type(JDA_participants)"
   ]
  },
  {
   "cell_type": "code",
   "execution_count": 2,
   "id": "6e32b2e6",
   "metadata": {},
   "outputs": [
    {
     "data": {
      "text/plain": [
       "list"
      ]
     },
     "execution_count": 2,
     "metadata": {},
     "output_type": "execute_result"
    }
   ],
   "source": [
    "#Q2 Convert the tuple into a list called pps_L\n",
    "pps_L = list(JDA_participants)\n",
    "type(pps_L)"
   ]
  },
  {
   "cell_type": "code",
   "execution_count": 3,
   "id": "af896ec1",
   "metadata": {},
   "outputs": [
    {
     "data": {
      "text/plain": [
       "41"
      ]
     },
     "execution_count": 3,
     "metadata": {},
     "output_type": "execute_result"
    }
   ],
   "source": [
    "#Q3 What is the length of your list \n",
    "len(pps_L)"
   ]
  },
  {
   "cell_type": "code",
   "execution_count": 4,
   "id": "c421000d",
   "metadata": {},
   "outputs": [
    {
     "name": "stdout",
     "output_type": "stream",
     "text": [
      "Juned Chhiboo is stored on index 3\n",
      "Mohammad Dabbour is stored on index 5\n",
      "Harpreet Kaur is stored on index 14\n",
      "Pouria Raziei is stored on index 30\n",
      "Rohan Thomas is stored on index 38\n"
     ]
    }
   ],
   "source": [
    "#Q4 Find the values stored in indexes [3],[5],[14],[30],[38]\n",
    "print(str(pps_L[3])+\" is stored on index 3\")\n",
    "print(str(pps_L[5])+\" is stored on index 5\")\n",
    "print(str(pps_L[14])+\" is stored on index 14\")\n",
    "print(str(pps_L[30])+\" is stored on index 30\")\n",
    "print(str(pps_L[38])+\" is stored on index 38\")"
   ]
  },
  {
   "cell_type": "code",
   "execution_count": 5,
   "id": "c86f86e6",
   "metadata": {},
   "outputs": [
    {
     "name": "stdout",
     "output_type": "stream",
     "text": [
      "Sarah is out!\n"
     ]
    }
   ],
   "source": [
    "#Q5 Check if \"Sarah\" is in the list\n",
    "if \"Sarah\" in pps_L:\n",
    "    print(\"Sarah is in!\")\n",
    "else:\n",
    "    print(\"Sarah is out!\")"
   ]
  },
  {
   "cell_type": "code",
   "execution_count": 6,
   "id": "167bbba6",
   "metadata": {},
   "outputs": [
    {
     "name": "stdout",
     "output_type": "stream",
     "text": [
      "Sarah is in!\n"
     ]
    }
   ],
   "source": [
    "#Q6 Add \"Sarah\" to your list\n",
    "pps_L.append(\"Sarah\")\n",
    "if \"Sarah\" in pps_L:\n",
    "    print(\"Sarah is in!\")\n",
    "else:\n",
    "    print(\"Sarah is out!\")"
   ]
  },
  {
   "cell_type": "code",
   "execution_count": 7,
   "id": "d150e243",
   "metadata": {},
   "outputs": [
    {
     "name": "stdout",
     "output_type": "stream",
     "text": [
      "Bashir is out!\n"
     ]
    }
   ],
   "source": [
    "#Q7 Check if \"Bashir\" is in the list\n",
    "if \"Bashir\" in pps_L:\n",
    "    print(\"Bashir is in!\")\n",
    "else:\n",
    "    print(\"Bashir is out!\")"
   ]
  },
  {
   "cell_type": "code",
   "execution_count": 8,
   "id": "55add633",
   "metadata": {},
   "outputs": [
    {
     "name": "stdout",
     "output_type": "stream",
     "text": [
      "Bashir is in!\n"
     ]
    }
   ],
   "source": [
    "#Q9 Add \"Bashir\" to your list\n",
    "pps_L.append(\"Bashir\")\n",
    "if \"Bashir\" in pps_L:\n",
    "    print(\"Bashir is in!\")\n",
    "else:\n",
    "    print(\"Bashir is out!\")"
   ]
  },
  {
   "cell_type": "code",
   "execution_count": 9,
   "id": "f6491f65",
   "metadata": {},
   "outputs": [
    {
     "data": {
      "text/plain": [
       "41"
      ]
     },
     "execution_count": 9,
     "metadata": {},
     "output_type": "execute_result"
    }
   ],
   "source": [
    "#Q10 Find the index of the element \"Sarah\" in the list\n",
    "pps_L.index(\"Sarah\")"
   ]
  },
  {
   "cell_type": "code",
   "execution_count": 10,
   "id": "fc806e5f",
   "metadata": {},
   "outputs": [
    {
     "name": "stdout",
     "output_type": "stream",
     "text": [
      "Instructor\n"
     ]
    }
   ],
   "source": [
    "#Q11 Change the value of the index in Q10 from \"Sarah\" to \"Instructor\"\n",
    "pps_L[41] = \"Instructor\"\n",
    "print(pps_L[41])"
   ]
  },
  {
   "cell_type": "code",
   "execution_count": 11,
   "id": "a9e21e9d",
   "metadata": {},
   "outputs": [
    {
     "data": {
      "text/plain": [
       "42"
      ]
     },
     "execution_count": 11,
     "metadata": {},
     "output_type": "execute_result"
    }
   ],
   "source": [
    "#Q12 Find the index of the element \"Bashir\" in the list\n",
    "pps_L.index(\"Bashir\")"
   ]
  },
  {
   "cell_type": "code",
   "execution_count": 13,
   "id": "a4cda166",
   "metadata": {},
   "outputs": [
    {
     "name": "stdout",
     "output_type": "stream",
     "text": [
      "Peer-Mentor\n"
     ]
    }
   ],
   "source": [
    "#Q13 Change the value of the index in Q12 from \"Bashir\" to \"Peer-Mentor\"\n",
    "pps_L[42] = \"Peer-Mentor\"\n",
    "print(pps_L[42])"
   ]
  }
 ],
 "metadata": {
  "kernelspec": {
   "display_name": "Python 3",
   "language": "python",
   "name": "python3"
  },
  "language_info": {
   "codemirror_mode": {
    "name": "ipython",
    "version": 3
   },
   "file_extension": ".py",
   "mimetype": "text/x-python",
   "name": "python",
   "nbconvert_exporter": "python",
   "pygments_lexer": "ipython3",
   "version": "3.8.8"
  }
 },
 "nbformat": 4,
 "nbformat_minor": 5
}
