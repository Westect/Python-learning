{
 "cells": [
  {
   "cell_type": "code",
   "execution_count": 3,
   "id": "69b52cf1",
   "metadata": {},
   "outputs": [
    {
     "name": "stdout",
     "output_type": "stream",
     "text": [
      "Python 3.8.8\n"
     ]
    }
   ],
   "source": [
    "#Write a Python code to retrun your Python version\n",
    "!python --version"
   ]
  },
  {
   "cell_type": "code",
   "execution_count": 15,
   "id": "4961ae68",
   "metadata": {},
   "outputs": [
    {
     "name": "stdout",
     "output_type": "stream",
     "text": [
      "customer id =513\n"
     ]
    }
   ],
   "source": [
    "##Write a Python code to declare variable id=\"513\".\n",
    "#Print the following statement \"customer id =513\". [Don't use print(\"customer id\n",
    "id=\"513\"\n",
    "print (\"customer id =\" + id)"
   ]
  },
  {
   "cell_type": "code",
   "execution_count": 16,
   "id": "c216aeda",
   "metadata": {},
   "outputs": [
    {
     "ename": "TypeError",
     "evalue": "can only concatenate str (not \"int\") to str",
     "output_type": "error",
     "traceback": [
      "\u001b[1;31m---------------------------------------------------------------------------\u001b[0m",
      "\u001b[1;31mTypeError\u001b[0m                                 Traceback (most recent call last)",
      "\u001b[1;32m<ipython-input-16-308c2b5b8245>\u001b[0m in \u001b[0;36m<module>\u001b[1;34m\u001b[0m\n\u001b[0;32m      1\u001b[0m \u001b[1;31m#Run the following statement, why there is an error\u001b[0m\u001b[1;33m\u001b[0m\u001b[1;33m\u001b[0m\u001b[1;33m\u001b[0m\u001b[0m\n\u001b[1;32m----> 2\u001b[1;33m \u001b[0mid\u001b[0m\u001b[1;33m=\u001b[0m\u001b[0mid\u001b[0m\u001b[1;33m+\u001b[0m\u001b[1;36m1\u001b[0m\u001b[1;33m\u001b[0m\u001b[1;33m\u001b[0m\u001b[0m\n\u001b[0m\u001b[0;32m      3\u001b[0m \u001b[1;31m#it is because id is currently a string, not an int or float\u001b[0m\u001b[1;33m\u001b[0m\u001b[1;33m\u001b[0m\u001b[1;33m\u001b[0m\u001b[0m\n",
      "\u001b[1;31mTypeError\u001b[0m: can only concatenate str (not \"int\") to str"
     ]
    }
   ],
   "source": [
    "#Run the following statement, why there is an error\n",
    "id=id+1\n",
    "#it is because id is currently a string, not an int or float"
   ]
  },
  {
   "cell_type": "code",
   "execution_count": 17,
   "id": "c43522f9",
   "metadata": {},
   "outputs": [
    {
     "name": "stdout",
     "output_type": "stream",
     "text": [
      "514\n"
     ]
    }
   ],
   "source": [
    "#Convert the variable id into an integer, increment it by 1.\n",
    "#Assign the result to variable new_id.\n",
    "#Print the new_id\n",
    "new_id=int(id)+1\n",
    "print (str(new_id))"
   ]
  },
  {
   "cell_type": "code",
   "execution_count": 32,
   "id": "0b76bcc6",
   "metadata": {},
   "outputs": [
    {
     "name": "stdout",
     "output_type": "stream",
     "text": [
      "Twinkle, twinkle, little star, \n",
      " \t How I wonder what you are!  \n",
      " \t\t Up above the world so high, \n",
      " \t\t\t Like a diamond in the sky.\n"
     ]
    }
   ],
   "source": [
    "#Write a Python code to print the following string in a specific format (see the\n",
    "# Twinkle, twinkle, little star,\n",
    "# How I wonder what you are!\n",
    "# Up above the world so high,\n",
    "# Like a diamond in the sky.\n",
    "\n",
    "print(\"Twinkle, twinkle, little star, \\n \\t How I wonder what you are!  \\n \\t\\t Up above the world so high, \\n \\t\\t\\t Like a diamond in the sky.\")"
   ]
  },
  {
   "cell_type": "code",
   "execution_count": 72,
   "id": "e09e05b0",
   "metadata": {},
   "outputs": [
    {
     "name": "stdout",
     "output_type": "stream",
     "text": [
      "P\n"
     ]
    }
   ],
   "source": [
    "#Givin the following string variable, # Print the first element in the string\n",
    "course=\"Python for Data Science\"\n",
    "print(course[0])"
   ]
  },
  {
   "cell_type": "code",
   "execution_count": 51,
   "id": "330764ba",
   "metadata": {},
   "outputs": [
    {
     "name": "stdout",
     "output_type": "stream",
     "text": [
      "t\n"
     ]
    }
   ],
   "source": [
    "# Print the element on the 13th index in the string\n",
    "print(course[13])"
   ]
  },
  {
   "cell_type": "code",
   "execution_count": 41,
   "id": "4c6906bf",
   "metadata": {},
   "outputs": [
    {
     "data": {
      "text/plain": [
       "23"
      ]
     },
     "execution_count": 41,
     "metadata": {},
     "output_type": "execute_result"
    }
   ],
   "source": [
    "# Find the length of string\n",
    "len(course)"
   ]
  },
  {
   "cell_type": "code",
   "execution_count": 53,
   "id": "67059c82",
   "metadata": {},
   "outputs": [
    {
     "name": "stdout",
     "output_type": "stream",
     "text": [
      "e\n"
     ]
    }
   ],
   "source": [
    "# Print the last element in the string [use negative index]\n",
    "print(course[-1])"
   ]
  },
  {
   "cell_type": "code",
   "execution_count": 60,
   "id": "a7b40b30",
   "metadata": {},
   "outputs": [
    {
     "name": "stdout",
     "output_type": "stream",
     "text": [
      "Data\n"
     ]
    }
   ],
   "source": [
    "# Take the slice on variable course with only index 11 to index 14\n",
    "# https://www.oreilly.com/content/how-do-i-use-the-slice-notation-in-python/\n",
    "print(course[11:15])"
   ]
  },
  {
   "cell_type": "code",
   "execution_count": 67,
   "id": "0b8c748b",
   "metadata": {},
   "outputs": [
    {
     "name": "stdout",
     "output_type": "stream",
     "text": [
      "Ph ra i\n"
     ]
    }
   ],
   "source": [
    "# Get every third element in the range from index 0 to index 20\n",
    "print(course[0:20:3])"
   ]
  },
  {
   "cell_type": "code",
   "execution_count": 73,
   "id": "651c6f9e",
   "metadata": {},
   "outputs": [
    {
     "name": "stdout",
     "output_type": "stream",
     "text": [
      "Python for Data Science, AI & Development\n"
     ]
    }
   ],
   "source": [
    "# Concatenate course string with \", AI & Development\"\n",
    "add_on_string = \", AI & Development\"\n",
    "course = course + add_on_string\n",
    "print(course)"
   ]
  },
  {
   "cell_type": "code",
   "execution_count": 75,
   "id": "3ce56c2b",
   "metadata": {},
   "outputs": [
    {
     "name": "stdout",
     "output_type": "stream",
     "text": [
      "Python_for_Data_Science,_AI_&_Development\n"
     ]
    }
   ],
   "source": [
    "# Replace all the spaces with (_). New string should looks like\"Python_for_Data_S\n",
    "course = course.replace(\" \", \"_\")\n",
    "print(course)"
   ]
  },
  {
   "cell_type": "code",
   "execution_count": 77,
   "id": "0b6c12e8",
   "metadata": {},
   "outputs": [
    {
     "name": "stdout",
     "output_type": "stream",
     "text": [
      "PYTHON_FOR_DATA_SCIENCE,_AI_&_DEVELOPMENT\n"
     ]
    }
   ],
   "source": [
    "# Convert all the characters in string to upper case\n",
    "course = course.upper()\n",
    "print(course)"
   ]
  }
 ],
 "metadata": {
  "kernelspec": {
   "display_name": "Python 3",
   "language": "python",
   "name": "python3"
  },
  "language_info": {
   "codemirror_mode": {
    "name": "ipython",
    "version": 3
   },
   "file_extension": ".py",
   "mimetype": "text/x-python",
   "name": "python",
   "nbconvert_exporter": "python",
   "pygments_lexer": "ipython3",
   "version": "3.8.8"
  }
 },
 "nbformat": 4,
 "nbformat_minor": 5
}
