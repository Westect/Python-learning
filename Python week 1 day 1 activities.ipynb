{
 "cells": [
  {
   "cell_type": "code",
   "execution_count": 20,
   "id": "e7917294",
   "metadata": {},
   "outputs": [
    {
     "name": "stdout",
     "output_type": "stream",
     "text": [
      "49\n"
     ]
    }
   ],
   "source": [
    "#1. Write a Python program to solve (x + y) * (x + y)\n",
    "x = 4 \n",
    "y = 3\n",
    "z = (x + y) * (x + y)\n",
    "print(z)"
   ]
  },
  {
   "cell_type": "code",
   "execution_count": 24,
   "id": "f3f7879c",
   "metadata": {},
   "outputs": [
    {
     "name": "stdout",
     "output_type": "stream",
     "text": [
      "1942\n"
     ]
    }
   ],
   "source": [
    "#2. Write a Python program to parse a string to Float or Integer.\n",
    "string = \"1942\"\n",
    "string = int(string)\n",
    "print(string)"
   ]
  },
  {
   "cell_type": "code",
   "execution_count": 36,
   "id": "b5260e77",
   "metadata": {},
   "outputs": [
    {
     "name": "stdout",
     "output_type": "stream",
     "text": [
      "15.0\n"
     ]
    }
   ],
   "source": [
    "#3. Write a python program to find the sum of the first n positive integers.\n",
    "n = 5\n",
    "sum_num = (n * (n + 1)) / 2\n",
    "print (sum_num)"
   ]
  },
  {
   "cell_type": "code",
   "execution_count": 47,
   "id": "56c21183",
   "metadata": {},
   "outputs": [
    {
     "name": "stdout",
     "output_type": "stream",
     "text": [
      "A distance of 55 feet is 660 in inches, 18.333333333333332 in yards and 0.010416666666666666 in miles.\n"
     ]
    }
   ],
   "source": [
    "#4. Write a Python program to convert the distance (in feet) to inches, yards, and miles\n",
    "distance = 55\n",
    "inches = distance * 12\n",
    "yard = distance / 3\n",
    "miles = distance / 5280\n",
    "print (\"A distance of \" + str(distance) +\" feet is \" + str(inches) + \" in inches, \" + str(yard) + \" in yards and \" + str(miles) + \" in miles.\")"
   ]
  },
  {
   "cell_type": "code",
   "execution_count": 41,
   "id": "3963a931",
   "metadata": {},
   "outputs": [
    {
     "name": "stdout",
     "output_type": "stream",
     "text": [
      "There is a total of 18000 seconds\n"
     ]
    }
   ],
   "source": [
    "#5. Write a Python program to convert all units of time into seconds\n",
    "hours = 5\n",
    "minutes = 47\n",
    "total_time = hours*60\n",
    "total_time = total_time*60\n",
    "print (\"There is a total of \" + str(total_time) + \" seconds\")"
   ]
  },
  {
   "cell_type": "code",
   "execution_count": 46,
   "id": "1306b627",
   "metadata": {},
   "outputs": [
    {
     "name": "stdout",
     "output_type": "stream",
     "text": [
      "18000 seconds is 0.20833333333333334 in days, 5.0 in hours and 300.0 in minutes.\n"
     ]
    }
   ],
   "source": [
    "#6. Write a Python program to convert seconds to day, hour, minutes and seconds.\n",
    "seconds = 18000\n",
    "days = 18000/60/60/24\n",
    "hours = 18000/60/60\n",
    "minutes = 18000/60\n",
    "print (str(seconds)  +\" seconds is \" + str(days) + \" in days, \" + str(hours) + \" in hours and \" + str(minutes) + \" in minutes.\")"
   ]
  },
  {
   "cell_type": "code",
   "execution_count": 50,
   "id": "e0879583",
   "metadata": {},
   "outputs": [
    {
     "name": "stdout",
     "output_type": "stream",
     "text": [
      "30+20=50\n"
     ]
    }
   ],
   "source": [
    "#7. Given variables x=30 and y=20, write a Python program to print \"30+20=50\"\n",
    "x = 30\n",
    "y = 20\n",
    "print(str(x)+\"+\"+str(y)+\"=\"+str(x+y))"
   ]
  },
  {
   "cell_type": "code",
   "execution_count": 56,
   "id": "c7e3b5df",
   "metadata": {},
   "outputs": [
    {
     "name": "stdout",
     "output_type": "stream",
     "text": [
      "First day of a Month!\n"
     ]
    }
   ],
   "source": [
    "#8. Write a Python program to perform an action if a condition is true. Given a variable name, \n",
    "# if the value is 1, display the string \"First day of a Month!\" and do nothing if the value is not equal.\n",
    "x = 1\n",
    "if x==1:\n",
    "    print(\"First day of a Month!\")"
   ]
  },
  {
   "cell_type": "code",
   "execution_count": 76,
   "id": "cb3bacc3",
   "metadata": {},
   "outputs": [
    {
     "name": "stdout",
     "output_type": "stream",
     "text": [
      "It's neither!\n"
     ]
    }
   ],
   "source": [
    "#9. Write a Python program to check whether variable is of integer or string\n",
    "x = (0.06)\n",
    "if type(x)==int:\n",
    "    print(\"It's an integer\")\n",
    "elif type(x)==str:\n",
    "    print(\"It's a string\")\n",
    "else:\n",
    "    print(\"It's neither!\")"
   ]
  },
  {
   "cell_type": "code",
   "execution_count": 77,
   "id": "7a2edd6d",
   "metadata": {},
   "outputs": [
    {
     "name": "stdout",
     "output_type": "stream",
     "text": [
      "High is 5 , and low is 98\n"
     ]
    }
   ],
   "source": [
    "#10. Write a Python function to find the maximum and minimum numbers from a sequence of numbers\n",
    "numbers = [67, 23, 41, 78, 82, 39, 23, 45, 77, 91, 27, 7, 53, 35, 23, 62, 61, 98, 14, 5]\n",
    "high = numbers[0]\n",
    "low = numbers[0]\n",
    "for x in numbers:\n",
    "    if x < high: high = x\n",
    "    if x > low: low = x\n",
    "print(\"High is \"+str(high)+\" , and low is \"+str(low))"
   ]
  }
 ],
 "metadata": {
  "kernelspec": {
   "display_name": "Python 3",
   "language": "python",
   "name": "python3"
  },
  "language_info": {
   "codemirror_mode": {
    "name": "ipython",
    "version": 3
   },
   "file_extension": ".py",
   "mimetype": "text/x-python",
   "name": "python",
   "nbconvert_exporter": "python",
   "pygments_lexer": "ipython3",
   "version": "3.8.8"
  },
  "widgets": {
   "application/vnd.jupyter.widget-state+json": {
    "state": {},
    "version_major": 2,
    "version_minor": 0
   }
  }
 },
 "nbformat": 4,
 "nbformat_minor": 5
}
